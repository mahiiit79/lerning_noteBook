{
 "cells": [
  {
   "cell_type": "code",
   "id": "initial_id",
   "metadata": {
    "collapsed": true,
    "ExecuteTime": {
     "end_time": "2025-05-18T11:40:51.979190Z",
     "start_time": "2025-05-18T11:40:51.959094Z"
    }
   },
   "source": [
    "\n",
    "\n",
    "import numpy as np \n",
    "\n",
    "a = np.array([1,2,3,4])\n",
    "a"
   ],
   "outputs": [
    {
     "data": {
      "text/plain": [
       "array([1, 2, 3, 4])"
      ]
     },
     "execution_count": 58,
     "metadata": {},
     "output_type": "execute_result"
    }
   ],
   "execution_count": 58
  },
  {
   "metadata": {
    "ExecuteTime": {
     "end_time": "2025-05-18T06:33:07.009551Z",
     "start_time": "2025-05-18T06:33:07.005073Z"
    }
   },
   "cell_type": "code",
   "source": [
    "b = np.array([[1,2,3],[4,5,6]])\n",
    "b"
   ],
   "id": "d58f266231a79191",
   "outputs": [
    {
     "data": {
      "text/plain": [
       "array([[1, 2, 3],\n",
       "       [4, 5, 6]])"
      ]
     },
     "execution_count": 2,
     "metadata": {},
     "output_type": "execute_result"
    }
   ],
   "execution_count": 2
  },
  {
   "metadata": {
    "ExecuteTime": {
     "end_time": "2025-05-18T08:29:36.199119Z",
     "start_time": "2025-05-18T08:29:36.194744Z"
    }
   },
   "cell_type": "code",
   "source": [
    "print(a.shape)\n",
    "print(b.shape)\n",
    "print(a.dtype)\n",
    "print(a.ndim)\n",
    "print(a.size)"
   ],
   "id": "fc44d7cbddc96b12",
   "outputs": [
    {
     "name": "stdout",
     "output_type": "stream",
     "text": [
      "(4,)\n",
      "(4,)\n",
      "int64\n",
      "1\n",
      "4\n"
     ]
    }
   ],
   "execution_count": 30
  },
  {
   "metadata": {
    "ExecuteTime": {
     "end_time": "2025-05-18T06:35:23.904334Z",
     "start_time": "2025-05-18T06:35:23.899132Z"
    }
   },
   "cell_type": "code",
   "source": [
    "#'(4,)' is not ok for machine learning so we can use reshape\n",
    "\n",
    "c = a.reshape((4,1))\n",
    "c"
   ],
   "id": "4db40cfc57402155",
   "outputs": [
    {
     "data": {
      "text/plain": [
       "array([[1],\n",
       "       [2],\n",
       "       [3],\n",
       "       [4]])"
      ]
     },
     "execution_count": 4,
     "metadata": {},
     "output_type": "execute_result"
    }
   ],
   "execution_count": 4
  },
  {
   "metadata": {
    "ExecuteTime": {
     "end_time": "2025-05-18T06:38:29.122971Z",
     "start_time": "2025-05-18T06:38:29.119383Z"
    }
   },
   "cell_type": "code",
   "source": "print(c.shape)",
   "id": "779ff7094e87c63d",
   "outputs": [
    {
     "name": "stdout",
     "output_type": "stream",
     "text": [
      "(4, 1)\n"
     ]
    }
   ],
   "execution_count": 5
  },
  {
   "metadata": {
    "ExecuteTime": {
     "end_time": "2025-05-18T06:44:25.299423Z",
     "start_time": "2025-05-18T06:44:25.295244Z"
    }
   },
   "cell_type": "code",
   "source": [
    "#prod should be size of the count of a ( a has 4 int )\n",
    "d = a.reshape((2,2,1))\n",
    "d.shape "
   ],
   "id": "a1803d4a80e37b38",
   "outputs": [
    {
     "data": {
      "text/plain": [
       "(2, 2, 1)"
      ]
     },
     "execution_count": 7,
     "metadata": {},
     "output_type": "execute_result"
    }
   ],
   "execution_count": 7
  },
  {
   "metadata": {
    "ExecuteTime": {
     "end_time": "2025-05-18T06:48:55.159608Z",
     "start_time": "2025-05-18T06:48:55.155128Z"
    }
   },
   "cell_type": "code",
   "source": [
    "#sometimes we don't know how many int we have in this time we use -1 (which shape)\n",
    "e = a.reshape((2,-1,1))\n",
    "e.shape"
   ],
   "id": "a53c06ca29e86e73",
   "outputs": [
    {
     "data": {
      "text/plain": [
       "(2, 2, 1)"
      ]
     },
     "execution_count": 8,
     "metadata": {},
     "output_type": "execute_result"
    }
   ],
   "execution_count": 8
  },
  {
   "metadata": {
    "ExecuteTime": {
     "end_time": "2025-05-18T07:06:39.536941Z",
     "start_time": "2025-05-18T07:06:39.532Z"
    }
   },
   "cell_type": "code",
   "source": [
    "#concatenate\n",
    "a = np.array([2,3,4,5])\n",
    "b = np.array([6,7,8,9])\n",
    "c = np.concatenate((a,b))\n",
    "c "
   ],
   "id": "b626301481365427",
   "outputs": [
    {
     "data": {
      "text/plain": [
       "array([2, 3, 4, 5, 6, 7, 8, 9])"
      ]
     },
     "execution_count": 9,
     "metadata": {},
     "output_type": "execute_result"
    }
   ],
   "execution_count": 9
  },
  {
   "metadata": {
    "ExecuteTime": {
     "end_time": "2025-05-18T07:10:43.230449Z",
     "start_time": "2025-05-18T07:10:43.226329Z"
    }
   },
   "cell_type": "code",
   "source": [
    "a = np.array([2,3,4,5])\n",
    "b = np.array([6,7,8,9])\n",
    "c = a * b \n",
    "print(c)\n",
    "d = a + b \n",
    "print(d)"
   ],
   "id": "6672d9309f38dda3",
   "outputs": [
    {
     "name": "stdout",
     "output_type": "stream",
     "text": [
      "[12 21 32 45]\n",
      "[ 8 10 12 14]\n"
     ]
    }
   ],
   "execution_count": 12
  },
  {
   "metadata": {
    "ExecuteTime": {
     "end_time": "2025-05-18T07:14:27.470138Z",
     "start_time": "2025-05-18T07:14:27.465481Z"
    }
   },
   "cell_type": "code",
   "source": [
    "#data broadcasting\n",
    "m = a+ 5\n",
    "m"
   ],
   "id": "ced25a03cddd2fea",
   "outputs": [
    {
     "data": {
      "text/plain": [
       "array([ 7,  8,  9, 10])"
      ]
     },
     "execution_count": 13,
     "metadata": {},
     "output_type": "execute_result"
    }
   ],
   "execution_count": 13
  },
  {
   "metadata": {
    "ExecuteTime": {
     "end_time": "2025-05-18T07:15:41.430728Z",
     "start_time": "2025-05-18T07:15:41.426442Z"
    }
   },
   "cell_type": "code",
   "source": [
    "#or(data broadcasting)\n",
    "m = np.array([10])\n",
    "t = a + m\n",
    "t"
   ],
   "id": "c9fb794f71a615c5",
   "outputs": [
    {
     "data": {
      "text/plain": [
       "array([12, 13, 14, 15])"
      ]
     },
     "execution_count": 14,
     "metadata": {},
     "output_type": "execute_result"
    }
   ],
   "execution_count": 14
  },
  {
   "metadata": {
    "ExecuteTime": {
     "end_time": "2025-05-18T07:21:19.564244Z",
     "start_time": "2025-05-18T07:21:19.559904Z"
    }
   },
   "cell_type": "code",
   "source": [
    "#select one part of one list\n",
    "#slicing\n",
    "a = np.array([2, 3, 4, 5, 6, 7, 8, 9])\n",
    "b = a[1:7:2]\n",
    "b"
   ],
   "id": "8dbea54989cfcfd8",
   "outputs": [
    {
     "data": {
      "text/plain": [
       "array([3, 5, 7])"
      ]
     },
     "execution_count": 16,
     "metadata": {},
     "output_type": "execute_result"
    }
   ],
   "execution_count": 16
  },
  {
   "metadata": {
    "ExecuteTime": {
     "end_time": "2025-05-18T07:22:50.620353Z",
     "start_time": "2025-05-18T07:22:50.614197Z"
    }
   },
   "cell_type": "code",
   "source": [
    "a = np.array([2, 3, 4, 5, 6, 7, 8, 9])\n",
    "b = a[a>3]\n",
    "b "
   ],
   "id": "3e48753db486d545",
   "outputs": [
    {
     "data": {
      "text/plain": [
       "array([4, 5, 6, 7, 8, 9])"
      ]
     },
     "execution_count": 17,
     "metadata": {},
     "output_type": "execute_result"
    }
   ],
   "execution_count": 17
  },
  {
   "metadata": {
    "ExecuteTime": {
     "end_time": "2025-05-18T07:37:47.687098Z",
     "start_time": "2025-05-18T07:37:47.682779Z"
    }
   },
   "cell_type": "code",
   "source": [
    "a = np.array([2, 3, 4, 5, 6, 7, 8, 9])\n",
    "b = np.sum(a)\n",
    "c = np.max(a)\n",
    "print(c)\n",
    "print(b) "
   ],
   "id": "1202ea39a9df6ac",
   "outputs": [
    {
     "name": "stdout",
     "output_type": "stream",
     "text": [
      "9\n",
      "44\n"
     ]
    }
   ],
   "execution_count": 22
  },
  {
   "metadata": {
    "ExecuteTime": {
     "end_time": "2025-05-18T07:39:43.486548Z",
     "start_time": "2025-05-18T07:39:43.476381Z"
    }
   },
   "cell_type": "code",
   "source": [
    "#sort of the list\n",
    "a = np.array([2, 3, 4, 5, 6, 7, 8, 9])\n",
    "b = np.sort(a)\n",
    "b"
   ],
   "id": "f32f209d895bd3f9",
   "outputs": [
    {
     "data": {
      "text/plain": [
       "array([2, 3, 4, 5, 6, 7, 8, 9])"
      ]
     },
     "execution_count": 23,
     "metadata": {},
     "output_type": "execute_result"
    }
   ],
   "execution_count": 23
  },
  {
   "metadata": {
    "ExecuteTime": {
     "end_time": "2025-05-18T08:47:37.412460Z",
     "start_time": "2025-05-18T08:47:37.405997Z"
    }
   },
   "cell_type": "code",
   "source": [
    "#building a list or matrix in a random way\n",
    "a = np.random.randint(-100,100,(3,4))\n",
    "b = np.random.random((3,6))\n",
    "c = np.random.choice(['a','b','t'],size=2) #can have duplicated #replace =  false \n",
    "d = np.random.permutation([1,2,3,4]) #combine int in  a random way\n",
    "print(a)\n",
    "print('*' * 10)\n",
    "print(b)\n",
    "print('*' * 10)\n",
    "print(c)\n",
    "print('*' * 10)\n",
    "print(d)\n"
   ],
   "id": "e90c082c2e1e83af",
   "outputs": [
    {
     "name": "stdout",
     "output_type": "stream",
     "text": [
      "[[-43  56  87  -1]\n",
      " [-86 -18 -32  97]\n",
      " [-11  59  81 -19]]\n",
      "**********\n",
      "[[0.56891493 0.40579699 0.7012795  0.40282043 0.19414056 0.75762601]\n",
      " [0.51243626 0.22175709 0.15217499 0.44135061 0.44137643 0.97231683]\n",
      " [0.12125381 0.14414986 0.06104283 0.79898459 0.31410894 0.30942647]]\n",
      "**********\n",
      "['a' 'a']\n",
      "**********\n",
      "[3 2 1 4]\n"
     ]
    }
   ],
   "execution_count": 45
  },
  {
   "metadata": {
    "ExecuteTime": {
     "end_time": "2025-05-18T07:47:20.869922Z",
     "start_time": "2025-05-18T07:47:20.863168Z"
    }
   },
   "cell_type": "code",
   "source": [
    "a = np.array([1,2,3,4])\n",
    "b = np.array([5,6,7,8])\n",
    "c = np.vstack((a,b))\n",
    "c #[[][]]"
   ],
   "id": "ef4936bd473f1c60",
   "outputs": [
    {
     "data": {
      "text/plain": [
       "array([[1, 2, 3, 4],\n",
       "       [5, 6, 7, 8]])"
      ]
     },
     "execution_count": 25,
     "metadata": {},
     "output_type": "execute_result"
    }
   ],
   "execution_count": 25
  },
  {
   "metadata": {
    "ExecuteTime": {
     "end_time": "2025-05-18T07:51:07.736940Z",
     "start_time": "2025-05-18T07:51:07.731739Z"
    }
   },
   "cell_type": "code",
   "source": [
    "# hstack =  concatenate \n",
    "a = np.array([1,2,3,4])\n",
    "b = np.array([5,6,7,8])\n",
    "c = np.hstack((a,b)) #should be a tuple else error\n",
    "c"
   ],
   "id": "74f3428ec067a874",
   "outputs": [
    {
     "data": {
      "text/plain": [
       "array([1, 2, 3, 4, 5, 6, 7, 8])"
      ]
     },
     "execution_count": 26,
     "metadata": {},
     "output_type": "execute_result"
    }
   ],
   "execution_count": 26
  },
  {
   "metadata": {
    "ExecuteTime": {
     "end_time": "2025-05-19T03:41:06.238713Z",
     "start_time": "2025-05-19T03:41:06.231330Z"
    }
   },
   "cell_type": "code",
   "source": [
    "\n",
    "#normalize \n",
    "a = np.array([1,2,3,4])\n",
    "mean_a = np.mean(a)\n",
    "std = np.std(a)\n",
    "print(std)\n",
    "print(mean_a)"
   ],
   "id": "d0abd529619a5d4d",
   "outputs": [
    {
     "name": "stdout",
     "output_type": "stream",
     "text": [
      "1.118033988749895\n",
      "2.5\n"
     ]
    }
   ],
   "execution_count": 63
  },
  {
   "metadata": {
    "ExecuteTime": {
     "end_time": "2025-05-18T08:00:11.789652Z",
     "start_time": "2025-05-18T08:00:11.778987Z"
    }
   },
   "cell_type": "code",
   "source": [
    "a = np.array([1,2,3,4])\n",
    "std = np.std(a)\n",
    "std "
   ],
   "id": "435153ea57ecaf09",
   "outputs": [
    {
     "data": {
      "text/plain": [
       "np.float64(1.118033988749895)"
      ]
     },
     "execution_count": 28,
     "metadata": {},
     "output_type": "execute_result"
    }
   ],
   "execution_count": 28
  },
  {
   "metadata": {
    "ExecuteTime": {
     "end_time": "2025-05-18T08:31:57.603370Z",
     "start_time": "2025-05-18T08:31:57.591162Z"
    }
   },
   "cell_type": "code",
   "source": [
    "\n",
    "print(np.arange(3.2,97.6,.21))"
   ],
   "id": "155bd4fe2f1d954",
   "outputs": [
    {
     "name": "stdout",
     "output_type": "stream",
     "text": [
      "[ 3.2   3.41  3.62  3.83  4.04  4.25  4.46  4.67  4.88  5.09  5.3   5.51\n",
      "  5.72  5.93  6.14  6.35  6.56  6.77  6.98  7.19  7.4   7.61  7.82  8.03\n",
      "  8.24  8.45  8.66  8.87  9.08  9.29  9.5   9.71  9.92 10.13 10.34 10.55\n",
      " 10.76 10.97 11.18 11.39 11.6  11.81 12.02 12.23 12.44 12.65 12.86 13.07\n",
      " 13.28 13.49 13.7  13.91 14.12 14.33 14.54 14.75 14.96 15.17 15.38 15.59\n",
      " 15.8  16.01 16.22 16.43 16.64 16.85 17.06 17.27 17.48 17.69 17.9  18.11\n",
      " 18.32 18.53 18.74 18.95 19.16 19.37 19.58 19.79 20.   20.21 20.42 20.63\n",
      " 20.84 21.05 21.26 21.47 21.68 21.89 22.1  22.31 22.52 22.73 22.94 23.15\n",
      " 23.36 23.57 23.78 23.99 24.2  24.41 24.62 24.83 25.04 25.25 25.46 25.67\n",
      " 25.88 26.09 26.3  26.51 26.72 26.93 27.14 27.35 27.56 27.77 27.98 28.19\n",
      " 28.4  28.61 28.82 29.03 29.24 29.45 29.66 29.87 30.08 30.29 30.5  30.71\n",
      " 30.92 31.13 31.34 31.55 31.76 31.97 32.18 32.39 32.6  32.81 33.02 33.23\n",
      " 33.44 33.65 33.86 34.07 34.28 34.49 34.7  34.91 35.12 35.33 35.54 35.75\n",
      " 35.96 36.17 36.38 36.59 36.8  37.01 37.22 37.43 37.64 37.85 38.06 38.27\n",
      " 38.48 38.69 38.9  39.11 39.32 39.53 39.74 39.95 40.16 40.37 40.58 40.79\n",
      " 41.   41.21 41.42 41.63 41.84 42.05 42.26 42.47 42.68 42.89 43.1  43.31\n",
      " 43.52 43.73 43.94 44.15 44.36 44.57 44.78 44.99 45.2  45.41 45.62 45.83\n",
      " 46.04 46.25 46.46 46.67 46.88 47.09 47.3  47.51 47.72 47.93 48.14 48.35\n",
      " 48.56 48.77 48.98 49.19 49.4  49.61 49.82 50.03 50.24 50.45 50.66 50.87\n",
      " 51.08 51.29 51.5  51.71 51.92 52.13 52.34 52.55 52.76 52.97 53.18 53.39\n",
      " 53.6  53.81 54.02 54.23 54.44 54.65 54.86 55.07 55.28 55.49 55.7  55.91\n",
      " 56.12 56.33 56.54 56.75 56.96 57.17 57.38 57.59 57.8  58.01 58.22 58.43\n",
      " 58.64 58.85 59.06 59.27 59.48 59.69 59.9  60.11 60.32 60.53 60.74 60.95\n",
      " 61.16 61.37 61.58 61.79 62.   62.21 62.42 62.63 62.84 63.05 63.26 63.47\n",
      " 63.68 63.89 64.1  64.31 64.52 64.73 64.94 65.15 65.36 65.57 65.78 65.99\n",
      " 66.2  66.41 66.62 66.83 67.04 67.25 67.46 67.67 67.88 68.09 68.3  68.51\n",
      " 68.72 68.93 69.14 69.35 69.56 69.77 69.98 70.19 70.4  70.61 70.82 71.03\n",
      " 71.24 71.45 71.66 71.87 72.08 72.29 72.5  72.71 72.92 73.13 73.34 73.55\n",
      " 73.76 73.97 74.18 74.39 74.6  74.81 75.02 75.23 75.44 75.65 75.86 76.07\n",
      " 76.28 76.49 76.7  76.91 77.12 77.33 77.54 77.75 77.96 78.17 78.38 78.59\n",
      " 78.8  79.01 79.22 79.43 79.64 79.85 80.06 80.27 80.48 80.69 80.9  81.11\n",
      " 81.32 81.53 81.74 81.95 82.16 82.37 82.58 82.79 83.   83.21 83.42 83.63\n",
      " 83.84 84.05 84.26 84.47 84.68 84.89 85.1  85.31 85.52 85.73 85.94 86.15\n",
      " 86.36 86.57 86.78 86.99 87.2  87.41 87.62 87.83 88.04 88.25 88.46 88.67\n",
      " 88.88 89.09 89.3  89.51 89.72 89.93 90.14 90.35 90.56 90.77 90.98 91.19\n",
      " 91.4  91.61 91.82 92.03 92.24 92.45 92.66 92.87 93.08 93.29 93.5  93.71\n",
      " 93.92 94.13 94.34 94.55 94.76 94.97 95.18 95.39 95.6  95.81 96.02 96.23\n",
      " 96.44 96.65 96.86 97.07 97.28 97.49]\n"
     ]
    }
   ],
   "execution_count": 31
  },
  {
   "metadata": {
    "ExecuteTime": {
     "end_time": "2025-05-18T08:32:36.403733Z",
     "start_time": "2025-05-18T08:32:36.398322Z"
    }
   },
   "cell_type": "code",
   "source": [
    "\n",
    "print(np.linspace(0,20,6))"
   ],
   "id": "ef5403317b1cb12b",
   "outputs": [
    {
     "name": "stdout",
     "output_type": "stream",
     "text": [
      "[ 0.  4.  8. 12. 16. 20.]\n"
     ]
    }
   ],
   "execution_count": 32
  },
  {
   "metadata": {
    "ExecuteTime": {
     "end_time": "2025-05-18T08:35:11.697853Z",
     "start_time": "2025-05-18T08:35:11.693690Z"
    }
   },
   "cell_type": "code",
   "source": [
    "# 3 arrays 2 , which it is 4*2 with 0\n",
    "print(np.zeros((3,2,4,2)))"
   ],
   "id": "36e98bf38c644546",
   "outputs": [
    {
     "name": "stdout",
     "output_type": "stream",
     "text": [
      "[[[[0. 0.]\n",
      "   [0. 0.]\n",
      "   [0. 0.]\n",
      "   [0. 0.]]\n",
      "\n",
      "  [[0. 0.]\n",
      "   [0. 0.]\n",
      "   [0. 0.]\n",
      "   [0. 0.]]]\n",
      "\n",
      "\n",
      " [[[0. 0.]\n",
      "   [0. 0.]\n",
      "   [0. 0.]\n",
      "   [0. 0.]]\n",
      "\n",
      "  [[0. 0.]\n",
      "   [0. 0.]\n",
      "   [0. 0.]\n",
      "   [0. 0.]]]\n",
      "\n",
      "\n",
      " [[[0. 0.]\n",
      "   [0. 0.]\n",
      "   [0. 0.]\n",
      "   [0. 0.]]\n",
      "\n",
      "  [[0. 0.]\n",
      "   [0. 0.]\n",
      "   [0. 0.]\n",
      "   [0. 0.]]]]\n"
     ]
    }
   ],
   "execution_count": 33
  },
  {
   "metadata": {
    "ExecuteTime": {
     "end_time": "2025-05-18T08:38:36.279829Z",
     "start_time": "2025-05-18T08:38:36.275548Z"
    }
   },
   "cell_type": "code",
   "source": "print(np.ones((3,2)))",
   "id": "fc6ace4cd7716580",
   "outputs": [
    {
     "name": "stdout",
     "output_type": "stream",
     "text": [
      "[[1. 1.]\n",
      " [1. 1.]\n",
      " [1. 1.]]\n"
     ]
    }
   ],
   "execution_count": 34
  },
  {
   "metadata": {
    "ExecuteTime": {
     "end_time": "2025-05-18T08:41:36.287608Z",
     "start_time": "2025-05-18T08:41:36.283623Z"
    }
   },
   "cell_type": "code",
   "source": "print(np.full((3,2,4,2),3))",
   "id": "5d3bb196d0765174",
   "outputs": [
    {
     "name": "stdout",
     "output_type": "stream",
     "text": [
      "[[[[3 3]\n",
      "   [3 3]\n",
      "   [3 3]\n",
      "   [3 3]]\n",
      "\n",
      "  [[3 3]\n",
      "   [3 3]\n",
      "   [3 3]\n",
      "   [3 3]]]\n",
      "\n",
      "\n",
      " [[[3 3]\n",
      "   [3 3]\n",
      "   [3 3]\n",
      "   [3 3]]\n",
      "\n",
      "  [[3 3]\n",
      "   [3 3]\n",
      "   [3 3]\n",
      "   [3 3]]]\n",
      "\n",
      "\n",
      " [[[3 3]\n",
      "   [3 3]\n",
      "   [3 3]\n",
      "   [3 3]]\n",
      "\n",
      "  [[3 3]\n",
      "   [3 3]\n",
      "   [3 3]\n",
      "   [3 3]]]]\n"
     ]
    }
   ],
   "execution_count": 38
  },
  {
   "metadata": {
    "ExecuteTime": {
     "end_time": "2025-05-18T08:41:46.905791Z",
     "start_time": "2025-05-18T08:41:46.901627Z"
    }
   },
   "cell_type": "code",
   "source": [
    "#dynamic\n",
    "arr = np.array([[10,12,11],[17,14,19]])\n",
    "print(np.full(arr.shape,7))\n",
    "print('*' * 10)\n",
    "print(np.full_like(arr,7))"
   ],
   "id": "770f43e75522c479",
   "outputs": [
    {
     "name": "stdout",
     "output_type": "stream",
     "text": [
      "[[7 7 7]\n",
      " [7 7 7]]\n",
      "**********\n",
      "[[7 7 7]\n",
      " [7 7 7]]\n"
     ]
    }
   ],
   "execution_count": 39
  },
  {
   "metadata": {
    "ExecuteTime": {
     "end_time": "2025-05-18T09:37:41.943186Z",
     "start_time": "2025-05-18T09:37:41.939853Z"
    }
   },
   "cell_type": "code",
   "source": [
    "arr = np.array([[10,12,11],[17,14,19]])\n",
    "print(np.prod(arr))\n",
    "print(np.diff(arr))\n",
    "\n",
    "\n"
   ],
   "id": "8d0ba3ffa5c56f33",
   "outputs": [
    {
     "name": "stdout",
     "output_type": "stream",
     "text": [
      "5969040\n",
      "[[ 2 -1]\n",
      " [-3  5]]\n"
     ]
    }
   ],
   "execution_count": 53
  },
  {
   "metadata": {
    "ExecuteTime": {
     "end_time": "2025-05-18T09:39:49.195548Z",
     "start_time": "2025-05-18T09:39:49.189067Z"
    }
   },
   "cell_type": "code",
   "source": [
    "a = np.array([1,2,3,4,4,5,6,4])\n",
    "np.unique(a,return_counts=True,return_index=True)"
   ],
   "id": "74b753f34228133f",
   "outputs": [
    {
     "data": {
      "text/plain": [
       "(array([1, 2, 3, 4, 5, 6]),\n",
       " array([0, 1, 2, 3, 5, 6]),\n",
       " array([1, 1, 1, 3, 1, 1]))"
      ]
     },
     "execution_count": 56,
     "metadata": {},
     "output_type": "execute_result"
    }
   ],
   "execution_count": 56
  },
  {
   "metadata": {
    "ExecuteTime": {
     "end_time": "2025-05-18T09:54:23.733464Z",
     "start_time": "2025-05-18T09:54:23.730795Z"
    }
   },
   "cell_type": "code",
   "source": "\n",
   "id": "5c1f88cffd8895c4",
   "outputs": [],
   "execution_count": 57
  },
  {
   "metadata": {
    "ExecuteTime": {
     "end_time": "2025-05-18T11:44:19.487391Z",
     "start_time": "2025-05-18T11:44:19.481864Z"
    }
   },
   "cell_type": "code",
   "source": [
    "# a = np.array([1,2,3,4,4,5,6,4],dtype=np.uint8)\n",
    "\n",
    "\n",
    "x = np.array([[1,2,3,4,5,6,7],[8,9,10,11,12,13,14]])\n",
    "print(x.T)\n",
    "x.min()\n",
    "x.argmin()"
   ],
   "id": "903a0ec76f8f1aa7",
   "outputs": [
    {
     "name": "stdout",
     "output_type": "stream",
     "text": [
      "[[ 1  8]\n",
      " [ 2  9]\n",
      " [ 3 10]\n",
      " [ 4 11]\n",
      " [ 5 12]\n",
      " [ 6 13]\n",
      " [ 7 14]]\n"
     ]
    },
    {
     "data": {
      "text/plain": [
       "np.int64(0)"
      ]
     },
     "execution_count": 62,
     "metadata": {},
     "output_type": "execute_result"
    }
   ],
   "execution_count": 62
  },
  {
   "metadata": {
    "ExecuteTime": {
     "end_time": "2025-05-18T11:44:04.837981Z",
     "start_time": "2025-05-18T11:44:04.829801Z"
    }
   },
   "cell_type": "code",
   "source": "",
   "id": "3c96dfa8f1261b18",
   "outputs": [
    {
     "data": {
      "text/plain": [
       "np.int64(0)"
      ]
     },
     "execution_count": 61,
     "metadata": {},
     "output_type": "execute_result"
    }
   ],
   "execution_count": 61
  },
  {
   "metadata": {
    "ExecuteTime": {
     "end_time": "2025-05-19T03:44:00.592206Z",
     "start_time": "2025-05-19T03:44:00.584987Z"
    }
   },
   "cell_type": "code",
   "source": [
    "scors = np.array([8,9,12,20,19,1])\n",
    "stats = np.array([0,0,1,1,1,0])\n",
    "print(scors[stats==1])\n",
    "print(np.where(stats==1))"
   ],
   "id": "52862294b535425b",
   "outputs": [
    {
     "name": "stdout",
     "output_type": "stream",
     "text": [
      "[12 20 19]\n",
      "(array([2, 3, 4]),)\n"
     ]
    }
   ],
   "execution_count": 65
  },
  {
   "metadata": {
    "ExecuteTime": {
     "end_time": "2025-05-19T03:48:25.230497Z",
     "start_time": "2025-05-19T03:48:25.226226Z"
    }
   },
   "cell_type": "code",
   "source": "",
   "id": "613c7fc8dcc98c67",
   "outputs": [
    {
     "name": "stdout",
     "output_type": "stream",
     "text": [
      "[[ 1  2  3  4  5  6]\n",
      " [ 7  8  9 10 11 12]]\n"
     ]
    }
   ],
   "execution_count": 69
  },
  {
   "metadata": {
    "ExecuteTime": {
     "end_time": "2025-05-19T03:50:34.504123Z",
     "start_time": "2025-05-19T03:50:34.500425Z"
    }
   },
   "cell_type": "code",
   "source": [
    "\n",
    "# turn to vector\n",
    "x = np.array([[1, 2, 3], [4, 5, 6]])\n",
    "y = np.ravel(x)\n",
    "print(y)"
   ],
   "id": "8c90cdf8992ed96b",
   "outputs": [
    {
     "name": "stdout",
     "output_type": "stream",
     "text": [
      "[1 2 3 4 5 6]\n"
     ]
    }
   ],
   "execution_count": 71
  },
  {
   "metadata": {},
   "cell_type": "code",
   "outputs": [],
   "execution_count": null,
   "source": "",
   "id": "2464d9e793dd6449"
  }
 ],
 "metadata": {
  "kernelspec": {
   "display_name": "Python 3",
   "language": "python",
   "name": "python3"
  },
  "language_info": {
   "codemirror_mode": {
    "name": "ipython",
    "version": 2
   },
   "file_extension": ".py",
   "mimetype": "text/x-python",
   "name": "python",
   "nbconvert_exporter": "python",
   "pygments_lexer": "ipython2",
   "version": "2.7.6"
  }
 },
 "nbformat": 4,
 "nbformat_minor": 5
}
